{
 "cells": [
  {
   "cell_type": "code",
   "execution_count": 1,
   "metadata": {},
   "outputs": [],
   "source": [
    "from dotenv import load_dotenv\n",
    "import base64\n",
    "import os\n",
    "import http.client\n",
    "import json\n",
    "\n",
    "load_dotenv()\n",
    "\n",
    "watsonx_api_key = os.getenv(\"WATSONX_APIKEY\", None)\n",
    "ibm_cloud_url = os.getenv(\"IBM_CLOUD_URL\", None)\n",
    "project_id = os.getenv(\"PROJECT_ID\", None)\n",
    "ibm_cloud_iam_url = os.getenv(\"IAM_IBM_CLOUD_URL\", None)\n",
    "chat_url = os.getenv(\"IBM_WATSONX_AI_INFERENCE_URL\", None)\n",
    "### Encode image as base 64\n",
    "\n",
    "pic = open(\"car.png\",\"rb\").read()\n",
    "pic_base64 = base64.b64encode(pic)\n",
    "pic_string = pic_base64.decode(\"utf-8\")\n"
   ]
  },
  {
   "cell_type": "code",
   "execution_count": 2,
   "metadata": {},
   "outputs": [],
   "source": [
    "conn_ibm_cloud_iam = http.client.HTTPSConnection(ibm_cloud_iam_url)\n",
    "payload = \"grant_type=urn%3Aibm%3Aparams%3Aoauth%3Agrant-type%3Aapikey&apikey=\"+watsonx_api_key\n",
    "headers = { 'Content-Type': \"application/x-www-form-urlencoded\" }\n",
    "conn_ibm_cloud_iam.request(\"POST\", \"/identity/token\", payload, headers)\n",
    "res = conn_ibm_cloud_iam.getresponse()\n",
    "data = res.read()\n",
    "decoded_json=json.loads(data.decode(\"utf-8\"))\n",
    "access_token=decoded_json[\"access_token\"]"
   ]
  },
  {
   "cell_type": "code",
   "execution_count": 3,
   "metadata": {},
   "outputs": [
    {
     "name": "stdout",
     "output_type": "stream",
     "text": [
      "---- RESPONSE ----\n",
      "```json\n",
      "{\n",
      "    \"object\": \"car\",\n",
      "    \"damage_scale\": 6,\n",
      "    \"description\": \"The car has a noticeable dent on the rear bumper, but it does not appear to be severely damaged. The dent is likely to be repairable without requiring replacement of the entire bumper. However, a closer inspection by a professional mechanic or auto body specialist would be necessary to determine the extent of the damage and provide a more accurate assessment.\"\n",
      "}\n",
      "```\n"
     ]
    }
   ],
   "source": [
    "import requests\n",
    "system_content = \"\"\"You always answer the questions with markdown formatting using GitHub syntax. The markdown formatting you support: headings, bold, italic, links, tables, lists, code blocks, and blockquotes. You must omit that you answer the questions with markdown.\\n\\nAny HTML tags must be wrapped in block quotes, for example ```<html>```. You will be penalized for not rendering code in block quotes.\\n\\nWhen returning code blocks, specify language.\\n\\nYou are a helpful, respectful and honest assistant. Always answer as helpfully as possible, while being safe. \\nYour answers should not include any harmful, unethical, racist, sexist, toxic, dangerous, or illegal content. Please ensure that your responses are socially unbiased and positive in nature.\\n\\nIf a question does not make any sense, or is not factually coherent, explain why instead of answering something not correct. If you don'\\''t know the answer to a question, please don'\\''t share false information.\"\"\"\n",
    "user_message = \"\"\"Please 1. Classify what object is this 2. Give a scale of 1-10 how damaged is the car 3. Do we need to change the parts or can fix. Please provide some descriptions\\nAnswer in JSON with format {{'object': 'object_name', 'damage_scale': num, 'description': 'some_description'}}\"\"\"\n",
    "body = {\n",
    "   \"messages\": [\n",
    "      {\n",
    "         \"role\": \"system\",\n",
    "         \"content\": system_content\n",
    "      },\n",
    "      {\n",
    "         \"role\": \"user\",\n",
    "         \"content\": [\n",
    "            {\n",
    "               \"type\": \"text\",\n",
    "               \"text\": user_message,\n",
    "            },\n",
    "            {\n",
    "               \"type\": \"image_url\",\n",
    "               \"image_url\": {\n",
    "                  \"url\": f\"data:image/jpeg;base64, {pic_string}\"\n",
    "               }\n",
    "            }\n",
    "         ]\n",
    "      }\n",
    "   ],\n",
    "   \"project_id\": project_id,\n",
    "   # \"model_id\": \"meta-llama/llama3-llava-next-8b-hf\",\n",
    "   # \"model_id\": \"meta-llama/llama-3-2-11b-vision-instruct\",\n",
    "   \"model_id\": \"meta-llama/llama-3-2-90b-vision-instruct\",\n",
    "   \"decoding_method\": \"greedy\",\n",
    "   \"repetition_penalty\": 1.1,\n",
    "   \"max_tokens\": 900\n",
    "}\n",
    "\n",
    "headers = {\n",
    "    \"Accept\": \"application/json\",\n",
    "    \"Content-Type\": \"application/json\",\n",
    "    \"Authorization\": f\"Bearer {access_token}\"\n",
    "}\n",
    "\n",
    "\n",
    "\n",
    "response = requests.post(\n",
    "    chat_url,\n",
    "    headers=headers,\n",
    "    json=body\n",
    ")\n",
    "\n",
    "if response.status_code != 200:\n",
    "    raise Exception(\"Non-200 response: \" + str(response.text))\n",
    "\n",
    "data = response.json()\n",
    "\n",
    "print('---- RESPONSE ----')\n",
    "print(data['choices'][0]['message']['content'])"
   ]
  },
  {
   "cell_type": "code",
   "execution_count": null,
   "metadata": {},
   "outputs": [],
   "source": []
  },
  {
   "cell_type": "code",
   "execution_count": null,
   "metadata": {},
   "outputs": [],
   "source": []
  }
 ],
 "metadata": {
  "kernelspec": {
   "display_name": "watsonx-one-pilot",
   "language": "python",
   "name": "python3"
  },
  "language_info": {
   "codemirror_mode": {
    "name": "ipython",
    "version": 3
   },
   "file_extension": ".py",
   "mimetype": "text/x-python",
   "name": "python",
   "nbconvert_exporter": "python",
   "pygments_lexer": "ipython3",
   "version": "3.11.9"
  }
 },
 "nbformat": 4,
 "nbformat_minor": 2
}
